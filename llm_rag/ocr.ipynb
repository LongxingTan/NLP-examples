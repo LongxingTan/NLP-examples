{
 "cells": [
  {
   "cell_type": "markdown",
   "metadata": {},
   "source": [
    "## 表格识别\n",
    "- https://github.com/PaddlePaddle/PaddleOCR/blob/main/doc/doc_ch/table_recognition.md\n",
    "- https://github.com/PaddlePaddle/PaddleOCR/blob/main/ppstructure/docs/quickstart.md\n",
    "- https://github.com/PaddlePaddle/PaddleOCR/blob/main/ppstructure/table/predict_table.py"
   ]
  },
  {
   "cell_type": "code",
   "execution_count": null,
   "metadata": {},
   "outputs": [],
   "source": []
  },
  {
   "cell_type": "code",
   "execution_count": null,
   "metadata": {},
   "outputs": [],
   "source": []
  }
 ],
 "metadata": {
  "language_info": {
   "name": "python"
  }
 },
 "nbformat": 4,
 "nbformat_minor": 2
}
